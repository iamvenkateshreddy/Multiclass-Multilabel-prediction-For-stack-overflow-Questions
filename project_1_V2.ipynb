{
 "cells": [
  {
   "cell_type": "code",
   "execution_count": 1,
   "metadata": {
    "colab": {},
    "colab_type": "code",
    "id": "sQhMPQbB4P5Y"
   },
   "outputs": [
    {
     "name": "stderr",
     "output_type": "stream",
     "text": [
      "UsageError: Line magic function `%tensorflow_version` not found.\n"
     ]
    }
   ],
   "source": [
    "%tensorflow_version 2.x"
   ]
  },
  {
   "cell_type": "code",
   "execution_count": 5,
   "metadata": {
    "colab": {},
    "colab_type": "code",
    "id": "IhqS9hWr23je"
   },
   "outputs": [],
   "source": [
    "import pandas as pd\n",
    "import numpy as np\n",
    "import warnings\n",
    "warnings.filterwarnings('ignore')"
   ]
  },
  {
   "cell_type": "code",
   "execution_count": null,
   "metadata": {
    "colab": {
     "base_uri": "https://localhost:8080/",
     "height": 486
    },
    "colab_type": "code",
    "id": "JfntYkq84CWL",
    "outputId": "a30b671e-cd46-4845-c5da-691b9265d3b6"
   },
   "outputs": [],
   "source": [
    "#!wget https://www.dropbox.com/s/5721wcs2guuykzl/stacksample.zip?dl=0"
   ]
  },
  {
   "cell_type": "code",
   "execution_count": 2,
   "metadata": {
    "colab": {
     "base_uri": "https://localhost:8080/",
     "height": 92
    },
    "colab_type": "code",
    "id": "5xxpbx7M3D6s",
    "outputId": "40174db2-4a9b-4a43-fcfc-b23f845cc349"
   },
   "outputs": [],
   "source": [
    "#!unzip '/content/stacksample.zip?dl=0'"
   ]
  },
  {
   "cell_type": "code",
   "execution_count": 3,
   "metadata": {
    "colab": {},
    "colab_type": "code",
    "id": "GpilOMLi4NAj"
   },
   "outputs": [],
   "source": [
    "questions = r'D:\\Work\\DS_and_AI\\Deep_Learning\\Project\\Project_1\\stacksample\\Questions.csv'\n",
    "answers = r'D:\\Work\\DS_and_AI\\Deep_Learning\\Project\\Project_1\\stacksample\\Answers.csv'\n",
    "tags = r'D:\\Work\\DS_and_AI\\Deep_Learning\\Project\\Project_1\\stacksample\\Tags.csv'"
   ]
  },
  {
   "cell_type": "code",
   "execution_count": 6,
   "metadata": {
    "colab": {},
    "colab_type": "code",
    "id": "0OTD0Drn5dMe"
   },
   "outputs": [],
   "source": [
    "questions_data = pd.read_csv(questions,encoding ='latin 1' )\n",
    "answers_data = pd.read_csv(answers,encoding ='latin 1')\n",
    "tags_data = pd.read_csv(tags,encoding ='latin 1')"
   ]
  },
  {
   "cell_type": "code",
   "execution_count": 7,
   "metadata": {
    "colab": {
     "base_uri": "https://localhost:8080/",
     "height": 112
    },
    "colab_type": "code",
    "id": "ORCkgHrV57wY",
    "outputId": "f08f5208-d81a-4857-bb52-e34102087b44"
   },
   "outputs": [
    {
     "data": {
      "text/html": [
       "<div>\n",
       "<style scoped>\n",
       "    .dataframe tbody tr th:only-of-type {\n",
       "        vertical-align: middle;\n",
       "    }\n",
       "\n",
       "    .dataframe tbody tr th {\n",
       "        vertical-align: top;\n",
       "    }\n",
       "\n",
       "    .dataframe thead th {\n",
       "        text-align: right;\n",
       "    }\n",
       "</style>\n",
       "<table border=\"1\" class=\"dataframe\">\n",
       "  <thead>\n",
       "    <tr style=\"text-align: right;\">\n",
       "      <th></th>\n",
       "      <th>Id</th>\n",
       "      <th>OwnerUserId</th>\n",
       "      <th>CreationDate</th>\n",
       "      <th>ClosedDate</th>\n",
       "      <th>Score</th>\n",
       "      <th>Title</th>\n",
       "      <th>Body</th>\n",
       "    </tr>\n",
       "  </thead>\n",
       "  <tbody>\n",
       "    <tr>\n",
       "      <td>0</td>\n",
       "      <td>80</td>\n",
       "      <td>26.0</td>\n",
       "      <td>2008-08-01T13:57:07Z</td>\n",
       "      <td>NaN</td>\n",
       "      <td>26</td>\n",
       "      <td>SQLStatement.execute() - multiple queries in o...</td>\n",
       "      <td>&lt;p&gt;I've written a database generation script i...</td>\n",
       "    </tr>\n",
       "    <tr>\n",
       "      <td>1</td>\n",
       "      <td>90</td>\n",
       "      <td>58.0</td>\n",
       "      <td>2008-08-01T14:41:24Z</td>\n",
       "      <td>2012-12-26T03:45:49Z</td>\n",
       "      <td>144</td>\n",
       "      <td>Good branching and merging tutorials for Torto...</td>\n",
       "      <td>&lt;p&gt;Are there any really good tutorials explain...</td>\n",
       "    </tr>\n",
       "  </tbody>\n",
       "</table>\n",
       "</div>"
      ],
      "text/plain": [
       "   Id  OwnerUserId          CreationDate            ClosedDate  Score  \\\n",
       "0  80         26.0  2008-08-01T13:57:07Z                   NaN     26   \n",
       "1  90         58.0  2008-08-01T14:41:24Z  2012-12-26T03:45:49Z    144   \n",
       "\n",
       "                                               Title  \\\n",
       "0  SQLStatement.execute() - multiple queries in o...   \n",
       "1  Good branching and merging tutorials for Torto...   \n",
       "\n",
       "                                                Body  \n",
       "0  <p>I've written a database generation script i...  \n",
       "1  <p>Are there any really good tutorials explain...  "
      ]
     },
     "execution_count": 7,
     "metadata": {},
     "output_type": "execute_result"
    }
   ],
   "source": [
    "questions_data.head(n=2)"
   ]
  },
  {
   "cell_type": "code",
   "execution_count": 8,
   "metadata": {
    "colab": {
     "base_uri": "https://localhost:8080/",
     "height": 112
    },
    "colab_type": "code",
    "id": "PXT9RDwOd5hF",
    "outputId": "310dc2a3-b4a9-4038-a6ca-06fd595633f5"
   },
   "outputs": [
    {
     "data": {
      "text/html": [
       "<div>\n",
       "<style scoped>\n",
       "    .dataframe tbody tr th:only-of-type {\n",
       "        vertical-align: middle;\n",
       "    }\n",
       "\n",
       "    .dataframe tbody tr th {\n",
       "        vertical-align: top;\n",
       "    }\n",
       "\n",
       "    .dataframe thead th {\n",
       "        text-align: right;\n",
       "    }\n",
       "</style>\n",
       "<table border=\"1\" class=\"dataframe\">\n",
       "  <thead>\n",
       "    <tr style=\"text-align: right;\">\n",
       "      <th></th>\n",
       "      <th>Id</th>\n",
       "      <th>Tag</th>\n",
       "    </tr>\n",
       "  </thead>\n",
       "  <tbody>\n",
       "    <tr>\n",
       "      <td>0</td>\n",
       "      <td>80</td>\n",
       "      <td>flex</td>\n",
       "    </tr>\n",
       "    <tr>\n",
       "      <td>1</td>\n",
       "      <td>80</td>\n",
       "      <td>actionscript-3</td>\n",
       "    </tr>\n",
       "  </tbody>\n",
       "</table>\n",
       "</div>"
      ],
      "text/plain": [
       "   Id             Tag\n",
       "0  80            flex\n",
       "1  80  actionscript-3"
      ]
     },
     "execution_count": 8,
     "metadata": {},
     "output_type": "execute_result"
    }
   ],
   "source": [
    "tags_data.head(2)"
   ]
  },
  {
   "cell_type": "code",
   "execution_count": 9,
   "metadata": {
    "colab": {},
    "colab_type": "code",
    "id": "Gmak1SS06YtZ"
   },
   "outputs": [],
   "source": [
    "#grouping the tags\n",
    "grouped_tags = tags_data.groupby(\"Tag\", sort='count').size().reset_index(name='count')"
   ]
  },
  {
   "cell_type": "code",
   "execution_count": 10,
   "metadata": {
    "colab": {
     "base_uri": "https://localhost:8080/",
     "height": 423
    },
    "colab_type": "code",
    "id": "5PDoRjc86fAU",
    "outputId": "cafb2fe3-6d9e-4e5f-92b7-18a048841aed"
   },
   "outputs": [
    {
     "data": {
      "text/html": [
       "<div>\n",
       "<style scoped>\n",
       "    .dataframe tbody tr th:only-of-type {\n",
       "        vertical-align: middle;\n",
       "    }\n",
       "\n",
       "    .dataframe tbody tr th {\n",
       "        vertical-align: top;\n",
       "    }\n",
       "\n",
       "    .dataframe thead th {\n",
       "        text-align: right;\n",
       "    }\n",
       "</style>\n",
       "<table border=\"1\" class=\"dataframe\">\n",
       "  <thead>\n",
       "    <tr style=\"text-align: right;\">\n",
       "      <th></th>\n",
       "      <th>Tag</th>\n",
       "      <th>count</th>\n",
       "    </tr>\n",
       "  </thead>\n",
       "  <tbody>\n",
       "    <tr>\n",
       "      <td>0</td>\n",
       "      <td>.a</td>\n",
       "      <td>13</td>\n",
       "    </tr>\n",
       "    <tr>\n",
       "      <td>1</td>\n",
       "      <td>.app</td>\n",
       "      <td>14</td>\n",
       "    </tr>\n",
       "    <tr>\n",
       "      <td>2</td>\n",
       "      <td>.aspxauth</td>\n",
       "      <td>6</td>\n",
       "    </tr>\n",
       "    <tr>\n",
       "      <td>3</td>\n",
       "      <td>.bash-profile</td>\n",
       "      <td>46</td>\n",
       "    </tr>\n",
       "    <tr>\n",
       "      <td>4</td>\n",
       "      <td>.class-file</td>\n",
       "      <td>19</td>\n",
       "    </tr>\n",
       "    <tr>\n",
       "      <td>...</td>\n",
       "      <td>...</td>\n",
       "      <td>...</td>\n",
       "    </tr>\n",
       "    <tr>\n",
       "      <td>37029</td>\n",
       "      <td>zwoptex</td>\n",
       "      <td>3</td>\n",
       "    </tr>\n",
       "    <tr>\n",
       "      <td>37030</td>\n",
       "      <td>zxing</td>\n",
       "      <td>159</td>\n",
       "    </tr>\n",
       "    <tr>\n",
       "      <td>37031</td>\n",
       "      <td>zxspectrum</td>\n",
       "      <td>1</td>\n",
       "    </tr>\n",
       "    <tr>\n",
       "      <td>37032</td>\n",
       "      <td>zynq</td>\n",
       "      <td>11</td>\n",
       "    </tr>\n",
       "    <tr>\n",
       "      <td>37033</td>\n",
       "      <td>zypper</td>\n",
       "      <td>2</td>\n",
       "    </tr>\n",
       "  </tbody>\n",
       "</table>\n",
       "<p>37034 rows × 2 columns</p>\n",
       "</div>"
      ],
      "text/plain": [
       "                 Tag  count\n",
       "0                 .a     13\n",
       "1               .app     14\n",
       "2          .aspxauth      6\n",
       "3      .bash-profile     46\n",
       "4        .class-file     19\n",
       "...              ...    ...\n",
       "37029        zwoptex      3\n",
       "37030          zxing    159\n",
       "37031     zxspectrum      1\n",
       "37032           zynq     11\n",
       "37033         zypper      2\n",
       "\n",
       "[37034 rows x 2 columns]"
      ]
     },
     "execution_count": 10,
     "metadata": {},
     "output_type": "execute_result"
    }
   ],
   "source": [
    "grouped_tags"
   ]
  },
  {
   "cell_type": "code",
   "execution_count": 11,
   "metadata": {
    "colab": {
     "base_uri": "https://localhost:8080/",
     "height": 111
    },
    "colab_type": "code",
    "id": "3UubGhfz6r7p",
    "outputId": "328f9b40-0ee9-42cf-bdd2-c1bcfc386c1f"
   },
   "outputs": [
    {
     "data": {
      "text/plain": [
       "count                  37034\n",
       "unique                 37034\n",
       "top       grunt-contrib-sass\n",
       "freq                       1\n",
       "Name: Tag, dtype: object"
      ]
     },
     "execution_count": 11,
     "metadata": {},
     "output_type": "execute_result"
    }
   ],
   "source": [
    "grouped_tags.Tag.describe()"
   ]
  },
  {
   "cell_type": "code",
   "execution_count": 12,
   "metadata": {
    "colab": {},
    "colab_type": "code",
    "id": "c02SiG8L67MZ"
   },
   "outputs": [],
   "source": [
    "#Reducing the problem to the most common tags in the dataset\n",
    "num_classes = 10\n",
    "#grouped_tags = tags_data.groupby(\"Tag\").size().reset_index(name='count')\n",
    "top_10_tags = grouped_tags.nlargest(num_classes,columns=\"count\")"
   ]
  },
  {
   "cell_type": "code",
   "execution_count": 13,
   "metadata": {
    "colab": {
     "base_uri": "https://localhost:8080/",
     "height": 363
    },
    "colab_type": "code",
    "id": "aVV0IeQOBmjd",
    "outputId": "1915ae46-034c-435a-e96a-586dd4ccfc62"
   },
   "outputs": [
    {
     "data": {
      "text/html": [
       "<div>\n",
       "<style scoped>\n",
       "    .dataframe tbody tr th:only-of-type {\n",
       "        vertical-align: middle;\n",
       "    }\n",
       "\n",
       "    .dataframe tbody tr th {\n",
       "        vertical-align: top;\n",
       "    }\n",
       "\n",
       "    .dataframe thead th {\n",
       "        text-align: right;\n",
       "    }\n",
       "</style>\n",
       "<table border=\"1\" class=\"dataframe\">\n",
       "  <thead>\n",
       "    <tr style=\"text-align: right;\">\n",
       "      <th></th>\n",
       "      <th>Tag</th>\n",
       "      <th>count</th>\n",
       "    </tr>\n",
       "  </thead>\n",
       "  <tbody>\n",
       "    <tr>\n",
       "      <td>16121</td>\n",
       "      <td>javascript</td>\n",
       "      <td>124155</td>\n",
       "    </tr>\n",
       "    <tr>\n",
       "      <td>16020</td>\n",
       "      <td>java</td>\n",
       "      <td>115212</td>\n",
       "    </tr>\n",
       "    <tr>\n",
       "      <td>4301</td>\n",
       "      <td>c#</td>\n",
       "      <td>101186</td>\n",
       "    </tr>\n",
       "    <tr>\n",
       "      <td>24211</td>\n",
       "      <td>php</td>\n",
       "      <td>98808</td>\n",
       "    </tr>\n",
       "    <tr>\n",
       "      <td>979</td>\n",
       "      <td>android</td>\n",
       "      <td>90659</td>\n",
       "    </tr>\n",
       "    <tr>\n",
       "      <td>16611</td>\n",
       "      <td>jquery</td>\n",
       "      <td>78542</td>\n",
       "    </tr>\n",
       "    <tr>\n",
       "      <td>25712</td>\n",
       "      <td>python</td>\n",
       "      <td>64601</td>\n",
       "    </tr>\n",
       "    <tr>\n",
       "      <td>14180</td>\n",
       "      <td>html</td>\n",
       "      <td>58976</td>\n",
       "    </tr>\n",
       "    <tr>\n",
       "      <td>4311</td>\n",
       "      <td>c++</td>\n",
       "      <td>47591</td>\n",
       "    </tr>\n",
       "    <tr>\n",
       "      <td>15565</td>\n",
       "      <td>ios</td>\n",
       "      <td>47009</td>\n",
       "    </tr>\n",
       "  </tbody>\n",
       "</table>\n",
       "</div>"
      ],
      "text/plain": [
       "              Tag   count\n",
       "16121  javascript  124155\n",
       "16020        java  115212\n",
       "4301           c#  101186\n",
       "24211         php   98808\n",
       "979       android   90659\n",
       "16611      jquery   78542\n",
       "25712      python   64601\n",
       "14180        html   58976\n",
       "4311          c++   47591\n",
       "15565         ios   47009"
      ]
     },
     "execution_count": 13,
     "metadata": {},
     "output_type": "execute_result"
    }
   ],
   "source": [
    "top_10_tags"
   ]
  },
  {
   "cell_type": "code",
   "execution_count": 14,
   "metadata": {
    "colab": {},
    "colab_type": "code",
    "id": "4yUfFNISBoui"
   },
   "outputs": [],
   "source": [
    "#filtering the top 10 tags data \n",
    "tags_data.Tag = tags_data.Tag.apply(lambda tag : tag if tag in top_10_tags.Tag.values else None)"
   ]
  },
  {
   "cell_type": "code",
   "execution_count": 15,
   "metadata": {
    "colab": {
     "base_uri": "https://localhost:8080/",
     "height": 423
    },
    "colab_type": "code",
    "id": "mmzuQLa9Dndq",
    "outputId": "bd904eb0-fda4-455c-f95d-ec634adf535c"
   },
   "outputs": [
    {
     "data": {
      "text/html": [
       "<div>\n",
       "<style scoped>\n",
       "    .dataframe tbody tr th:only-of-type {\n",
       "        vertical-align: middle;\n",
       "    }\n",
       "\n",
       "    .dataframe tbody tr th {\n",
       "        vertical-align: top;\n",
       "    }\n",
       "\n",
       "    .dataframe thead th {\n",
       "        text-align: right;\n",
       "    }\n",
       "</style>\n",
       "<table border=\"1\" class=\"dataframe\">\n",
       "  <thead>\n",
       "    <tr style=\"text-align: right;\">\n",
       "      <th></th>\n",
       "      <th>Id</th>\n",
       "      <th>Tag</th>\n",
       "    </tr>\n",
       "  </thead>\n",
       "  <tbody>\n",
       "    <tr>\n",
       "      <td>0</td>\n",
       "      <td>80</td>\n",
       "      <td>None</td>\n",
       "    </tr>\n",
       "    <tr>\n",
       "      <td>1</td>\n",
       "      <td>80</td>\n",
       "      <td>None</td>\n",
       "    </tr>\n",
       "    <tr>\n",
       "      <td>2</td>\n",
       "      <td>80</td>\n",
       "      <td>None</td>\n",
       "    </tr>\n",
       "    <tr>\n",
       "      <td>3</td>\n",
       "      <td>90</td>\n",
       "      <td>None</td>\n",
       "    </tr>\n",
       "    <tr>\n",
       "      <td>4</td>\n",
       "      <td>90</td>\n",
       "      <td>None</td>\n",
       "    </tr>\n",
       "    <tr>\n",
       "      <td>...</td>\n",
       "      <td>...</td>\n",
       "      <td>...</td>\n",
       "    </tr>\n",
       "    <tr>\n",
       "      <td>3750989</td>\n",
       "      <td>40143360</td>\n",
       "      <td>javascript</td>\n",
       "    </tr>\n",
       "    <tr>\n",
       "      <td>3750990</td>\n",
       "      <td>40143360</td>\n",
       "      <td>None</td>\n",
       "    </tr>\n",
       "    <tr>\n",
       "      <td>3750991</td>\n",
       "      <td>40143380</td>\n",
       "      <td>None</td>\n",
       "    </tr>\n",
       "    <tr>\n",
       "      <td>3750992</td>\n",
       "      <td>40143380</td>\n",
       "      <td>None</td>\n",
       "    </tr>\n",
       "    <tr>\n",
       "      <td>3750993</td>\n",
       "      <td>40143380</td>\n",
       "      <td>None</td>\n",
       "    </tr>\n",
       "  </tbody>\n",
       "</table>\n",
       "<p>3750994 rows × 2 columns</p>\n",
       "</div>"
      ],
      "text/plain": [
       "               Id         Tag\n",
       "0              80        None\n",
       "1              80        None\n",
       "2              80        None\n",
       "3              90        None\n",
       "4              90        None\n",
       "...           ...         ...\n",
       "3750989  40143360  javascript\n",
       "3750990  40143360        None\n",
       "3750991  40143380        None\n",
       "3750992  40143380        None\n",
       "3750993  40143380        None\n",
       "\n",
       "[3750994 rows x 2 columns]"
      ]
     },
     "execution_count": 15,
     "metadata": {},
     "output_type": "execute_result"
    }
   ],
   "source": [
    "tags_data"
   ]
  },
  {
   "cell_type": "code",
   "execution_count": 16,
   "metadata": {
    "colab": {},
    "colab_type": "code",
    "id": "GBhlw62NDrSX"
   },
   "outputs": [],
   "source": [
    "tags_data.dropna(inplace=True)"
   ]
  },
  {
   "cell_type": "code",
   "execution_count": 17,
   "metadata": {
    "colab": {
     "base_uri": "https://localhost:8080/",
     "height": 423
    },
    "colab_type": "code",
    "id": "-A9xWyu1DzjK",
    "outputId": "09ae2c16-5ed8-4756-c306-a887f254e70e"
   },
   "outputs": [
    {
     "data": {
      "text/html": [
       "<div>\n",
       "<style scoped>\n",
       "    .dataframe tbody tr th:only-of-type {\n",
       "        vertical-align: middle;\n",
       "    }\n",
       "\n",
       "    .dataframe tbody tr th {\n",
       "        vertical-align: top;\n",
       "    }\n",
       "\n",
       "    .dataframe thead th {\n",
       "        text-align: right;\n",
       "    }\n",
       "</style>\n",
       "<table border=\"1\" class=\"dataframe\">\n",
       "  <thead>\n",
       "    <tr style=\"text-align: right;\">\n",
       "      <th></th>\n",
       "      <th>Id</th>\n",
       "      <th>Tag</th>\n",
       "    </tr>\n",
       "  </thead>\n",
       "  <tbody>\n",
       "    <tr>\n",
       "      <td>14</td>\n",
       "      <td>260</td>\n",
       "      <td>c#</td>\n",
       "    </tr>\n",
       "    <tr>\n",
       "      <td>18</td>\n",
       "      <td>330</td>\n",
       "      <td>c++</td>\n",
       "    </tr>\n",
       "    <tr>\n",
       "      <td>28</td>\n",
       "      <td>650</td>\n",
       "      <td>c#</td>\n",
       "    </tr>\n",
       "    <tr>\n",
       "      <td>35</td>\n",
       "      <td>930</td>\n",
       "      <td>c#</td>\n",
       "    </tr>\n",
       "    <tr>\n",
       "      <td>39</td>\n",
       "      <td>1010</td>\n",
       "      <td>c#</td>\n",
       "    </tr>\n",
       "    <tr>\n",
       "      <td>...</td>\n",
       "      <td>...</td>\n",
       "      <td>...</td>\n",
       "    </tr>\n",
       "    <tr>\n",
       "      <td>3750974</td>\n",
       "      <td>40143150</td>\n",
       "      <td>javascript</td>\n",
       "    </tr>\n",
       "    <tr>\n",
       "      <td>3750981</td>\n",
       "      <td>40143190</td>\n",
       "      <td>python</td>\n",
       "    </tr>\n",
       "    <tr>\n",
       "      <td>3750984</td>\n",
       "      <td>40143210</td>\n",
       "      <td>php</td>\n",
       "    </tr>\n",
       "    <tr>\n",
       "      <td>3750987</td>\n",
       "      <td>40143340</td>\n",
       "      <td>android</td>\n",
       "    </tr>\n",
       "    <tr>\n",
       "      <td>3750989</td>\n",
       "      <td>40143360</td>\n",
       "      <td>javascript</td>\n",
       "    </tr>\n",
       "  </tbody>\n",
       "</table>\n",
       "<p>826739 rows × 2 columns</p>\n",
       "</div>"
      ],
      "text/plain": [
       "               Id         Tag\n",
       "14            260          c#\n",
       "18            330         c++\n",
       "28            650          c#\n",
       "35            930          c#\n",
       "39           1010          c#\n",
       "...           ...         ...\n",
       "3750974  40143150  javascript\n",
       "3750981  40143190      python\n",
       "3750984  40143210         php\n",
       "3750987  40143340     android\n",
       "3750989  40143360  javascript\n",
       "\n",
       "[826739 rows x 2 columns]"
      ]
     },
     "execution_count": 17,
     "metadata": {},
     "output_type": "execute_result"
    }
   ],
   "source": [
    "tags_data"
   ]
  },
  {
   "cell_type": "code",
   "execution_count": 18,
   "metadata": {
    "colab": {},
    "colab_type": "code",
    "id": "vDwsFn6OEzvz"
   },
   "outputs": [],
   "source": [
    "#preparing the contents of dataframe\n",
    "#text = '<p dgqwifgwi> This is important </p>'\n",
    "import re\n",
    "\n",
    "def strip_html_tags(body) :\n",
    "  regex = re.compile('<.*?>')\n",
    "  return re.sub(regex, '', body)\n"
   ]
  },
  {
   "cell_type": "code",
   "execution_count": 19,
   "metadata": {
    "colab": {},
    "colab_type": "code",
    "id": "PuLxiIESGAk6"
   },
   "outputs": [],
   "source": [
    "questions_data['Body'] = questions_data.Body.apply(strip_html_tags)"
   ]
  },
  {
   "cell_type": "code",
   "execution_count": 20,
   "metadata": {
    "colab": {
     "base_uri": "https://localhost:8080/",
     "height": 241
    },
    "colab_type": "code",
    "id": "OzALM58YFsy2",
    "outputId": "408afdca-1658-4358-f5e0-d4030a2f9457"
   },
   "outputs": [
    {
     "data": {
      "text/plain": [
       "0          I've written a database generation script in S...\n",
       "1          Are there any really good tutorials explaining...\n",
       "2          Has anyone got experience creating SQL-based A...\n",
       "3          This is something I've pseudo-solved many time...\n",
       "4          I have a little game written in C#. It uses a ...\n",
       "                                 ...                        \n",
       "1264211    I am building a custom MVC project and I have ...\n",
       "1264212    The API docs show that you should be able to m...\n",
       "1264213    Under minifyEnabled I changed from false to tr...\n",
       "1264214    I have input which I use to filter my array of...\n",
       "1264215    I'm running a mocha test and I noticed my chan...\n",
       "Name: Body, Length: 1264216, dtype: object"
      ]
     },
     "execution_count": 20,
     "metadata": {},
     "output_type": "execute_result"
    }
   ],
   "source": [
    "questions_data['Body']"
   ]
  },
  {
   "cell_type": "code",
   "execution_count": 21,
   "metadata": {
    "colab": {},
    "colab_type": "code",
    "id": "gGFVHMtYGc_y"
   },
   "outputs": [],
   "source": [
    "questions_data['Text'] = questions_data['Title']+' '+questions_data['Body']"
   ]
  },
  {
   "cell_type": "code",
   "execution_count": 22,
   "metadata": {
    "colab": {
     "base_uri": "https://localhost:8080/",
     "height": 241
    },
    "colab_type": "code",
    "id": "l0NauWVLSA5A",
    "outputId": "ae3f3264-f8f2-4616-e26f-130c93d4fd1f"
   },
   "outputs": [
    {
     "data": {
      "text/plain": [
       "0          SQLStatement.execute() - multiple queries in o...\n",
       "1          Good branching and merging tutorials for Torto...\n",
       "2          ASP.NET Site Maps Has anyone got experience cr...\n",
       "3          Function for creating color wheels This is som...\n",
       "4          Adding scripting functionality to .NET applica...\n",
       "                                 ...                        \n",
       "1264211    URL routing in PHP (MVC) I am building a custo...\n",
       "1264212    Bigquery.Jobs.Insert - Resumable Upload? The A...\n",
       "1264213    Obfuscating code in android studio Under minif...\n",
       "1264214    How to fire function after v-model change? I h...\n",
       "1264215    npm run mocha test - files being cached I'm ru...\n",
       "Name: Text, Length: 1264216, dtype: object"
      ]
     },
     "execution_count": 22,
     "metadata": {},
     "output_type": "execute_result"
    }
   ],
   "source": [
    "questions_data['Text']"
   ]
  },
  {
   "cell_type": "code",
   "execution_count": 23,
   "metadata": {
    "colab": {
     "base_uri": "https://localhost:8080/",
     "height": 36
    },
    "colab_type": "code",
    "id": "f9TKsoGISE5l",
    "outputId": "a16828a6-657b-4e05-9aa5-8b50a785406e"
   },
   "outputs": [
    {
     "data": {
      "text/plain": [
       "(1264216, 8)"
      ]
     },
     "execution_count": 23,
     "metadata": {},
     "output_type": "execute_result"
    }
   ],
   "source": [
    "questions_data.shape"
   ]
  },
  {
   "cell_type": "code",
   "execution_count": 24,
   "metadata": {
    "colab": {
     "base_uri": "https://localhost:8080/",
     "height": 36
    },
    "colab_type": "code",
    "id": "NA9IZbENajeX",
    "outputId": "025e16d1-0540-4866-edc9-d08b363c8fb5"
   },
   "outputs": [
    {
     "data": {
      "text/plain": [
       "(826739, 2)"
      ]
     },
     "execution_count": 24,
     "metadata": {},
     "output_type": "execute_result"
    }
   ],
   "source": [
    "tags_data.shape"
   ]
  },
  {
   "cell_type": "code",
   "execution_count": 25,
   "metadata": {
    "colab": {
     "base_uri": "https://localhost:8080/",
     "height": 147
    },
    "colab_type": "code",
    "id": "XmH29GzYas_B",
    "outputId": "67e9f2a2-1f74-484f-8d82-c68302c03c8e"
   },
   "outputs": [
    {
     "data": {
      "text/html": [
       "<div>\n",
       "<style scoped>\n",
       "    .dataframe tbody tr th:only-of-type {\n",
       "        vertical-align: middle;\n",
       "    }\n",
       "\n",
       "    .dataframe tbody tr th {\n",
       "        vertical-align: top;\n",
       "    }\n",
       "\n",
       "    .dataframe thead th {\n",
       "        text-align: right;\n",
       "    }\n",
       "</style>\n",
       "<table border=\"1\" class=\"dataframe\">\n",
       "  <thead>\n",
       "    <tr style=\"text-align: right;\">\n",
       "      <th></th>\n",
       "      <th>Id</th>\n",
       "      <th>OwnerUserId</th>\n",
       "      <th>CreationDate</th>\n",
       "      <th>ClosedDate</th>\n",
       "      <th>Score</th>\n",
       "      <th>Title</th>\n",
       "      <th>Body</th>\n",
       "      <th>Text</th>\n",
       "    </tr>\n",
       "  </thead>\n",
       "  <tbody>\n",
       "    <tr>\n",
       "      <td>17</td>\n",
       "      <td>1390</td>\n",
       "      <td>60.0</td>\n",
       "      <td>2008-08-04T16:33:36Z</td>\n",
       "      <td>NaN</td>\n",
       "      <td>18</td>\n",
       "      <td>Is Windows Server 2008 \"Server Core\" appropria...</td>\n",
       "      <td>I'm setting up a dedicated SQL Server 2005 box...</td>\n",
       "      <td>Is Windows Server 2008 \"Server Core\" appropria...</td>\n",
       "    </tr>\n",
       "    <tr>\n",
       "      <td>18</td>\n",
       "      <td>1600</td>\n",
       "      <td>230.0</td>\n",
       "      <td>2008-08-04T21:27:53Z</td>\n",
       "      <td>NaN</td>\n",
       "      <td>18</td>\n",
       "      <td>What is the best way to copy a database?</td>\n",
       "      <td>I always create a new empty database, after th...</td>\n",
       "      <td>What is the best way to copy a database? I alw...</td>\n",
       "    </tr>\n",
       "  </tbody>\n",
       "</table>\n",
       "</div>"
      ],
      "text/plain": [
       "      Id  OwnerUserId          CreationDate ClosedDate  Score  \\\n",
       "17  1390         60.0  2008-08-04T16:33:36Z        NaN     18   \n",
       "18  1600        230.0  2008-08-04T21:27:53Z        NaN     18   \n",
       "\n",
       "                                                Title  \\\n",
       "17  Is Windows Server 2008 \"Server Core\" appropria...   \n",
       "18           What is the best way to copy a database?   \n",
       "\n",
       "                                                 Body  \\\n",
       "17  I'm setting up a dedicated SQL Server 2005 box...   \n",
       "18  I always create a new empty database, after th...   \n",
       "\n",
       "                                                 Text  \n",
       "17  Is Windows Server 2008 \"Server Core\" appropria...  \n",
       "18  What is the best way to copy a database? I alw...  "
      ]
     },
     "execution_count": 25,
     "metadata": {},
     "output_type": "execute_result"
    }
   ],
   "source": [
    "questions_data[17:19]"
   ]
  },
  {
   "cell_type": "code",
   "execution_count": 26,
   "metadata": {
    "colab": {
     "base_uri": "https://localhost:8080/",
     "height": 112
    },
    "colab_type": "code",
    "id": "d3Wzn8X9a5ud",
    "outputId": "181dac76-eb72-4ae5-e167-6bb6d9ad72cd"
   },
   "outputs": [
    {
     "data": {
      "text/html": [
       "<div>\n",
       "<style scoped>\n",
       "    .dataframe tbody tr th:only-of-type {\n",
       "        vertical-align: middle;\n",
       "    }\n",
       "\n",
       "    .dataframe tbody tr th {\n",
       "        vertical-align: top;\n",
       "    }\n",
       "\n",
       "    .dataframe thead th {\n",
       "        text-align: right;\n",
       "    }\n",
       "</style>\n",
       "<table border=\"1\" class=\"dataframe\">\n",
       "  <thead>\n",
       "    <tr style=\"text-align: right;\">\n",
       "      <th></th>\n",
       "      <th>Id</th>\n",
       "      <th>Tag</th>\n",
       "    </tr>\n",
       "  </thead>\n",
       "  <tbody>\n",
       "    <tr>\n",
       "      <td>14</td>\n",
       "      <td>260</td>\n",
       "      <td>c#</td>\n",
       "    </tr>\n",
       "    <tr>\n",
       "      <td>18</td>\n",
       "      <td>330</td>\n",
       "      <td>c++</td>\n",
       "    </tr>\n",
       "  </tbody>\n",
       "</table>\n",
       "</div>"
      ],
      "text/plain": [
       "     Id  Tag\n",
       "14  260   c#\n",
       "18  330  c++"
      ]
     },
     "execution_count": 26,
     "metadata": {},
     "output_type": "execute_result"
    }
   ],
   "source": [
    "tags_data.head(2)"
   ]
  },
  {
   "cell_type": "code",
   "execution_count": 27,
   "metadata": {
    "colab": {},
    "colab_type": "code",
    "id": "D-_q9EKUZelR"
   },
   "outputs": [],
   "source": [
    "# denormalize tables\n",
    "def tags_for_question(question_id):\n",
    "    return tags_data[tags_data['Id'] == questions_data].values\n",
    "\n",
    "def add_tags_column(row):\n",
    "    row['Tags'] = tags_for_question(row['Id'])\n",
    "    return row\n"
   ]
  },
  {
   "cell_type": "code",
   "execution_count": null,
   "metadata": {
    "colab": {},
    "colab_type": "code",
    "id": "WbB4-uy_YtvY"
   },
   "outputs": [],
   "source": [
    "#questions_data = questions_data.apply(add_tags_column, axis=1)"
   ]
  },
  {
   "cell_type": "code",
   "execution_count": null,
   "metadata": {},
   "outputs": [],
   "source": []
  },
  {
   "cell_type": "code",
   "execution_count": null,
   "metadata": {},
   "outputs": [],
   "source": []
  }
 ],
 "metadata": {
  "accelerator": "TPU",
  "colab": {
   "machine_shape": "hm",
   "name": "project_1_V2.ipynb",
   "provenance": []
  },
  "kernelspec": {
   "display_name": "Python 3",
   "language": "python",
   "name": "python3"
  },
  "language_info": {
   "codemirror_mode": {
    "name": "ipython",
    "version": 3
   },
   "file_extension": ".py",
   "mimetype": "text/x-python",
   "name": "python",
   "nbconvert_exporter": "python",
   "pygments_lexer": "ipython3",
   "version": "3.7.4"
  }
 },
 "nbformat": 4,
 "nbformat_minor": 1
}
